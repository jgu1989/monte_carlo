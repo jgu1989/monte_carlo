{
 "cells": [
  {
   "cell_type": "code",
   "execution_count": 21,
   "metadata": {},
   "outputs": [],
   "source": [
    "%matplotlib inline\n",
    "\"\"\"\n",
    "Monte Carlo simulation of the 2D Ising model\n",
    "\"\"\"\n",
    "\n",
    "from scipy import *\n",
    "# from scipy import weave\n",
    "from pylab import *\n",
    "import random\n",
    "import numpy as np\n",
    "\n",
    "random.seed(42)\n",
    "Nitt = int(5e5)  # total number of Monte Carlo steps\n",
    "N = 40          # linear dimension of the lattice, lattice-size= N x N\n",
    "warm = int(1e5)     # Number of warmup steps\n",
    "measure=100     # How often to take a measurement\n",
    "\n",
    "\n",
    "def CEnergy(latt):\n",
    "    \"Energy of a 2D Ising lattice at particular configuration\"\n",
    "    Ene = 0\n",
    "    for i in range(len(latt)):\n",
    "        for j in range(len(latt)):\n",
    "            S = latt[i,j]\n",
    "            WF = latt[(i+1)%N, j] + latt[i,(j+1)%N] + latt[(i-1)%N,j] + latt[i,(j-1)%N]\n",
    "            Ene += -WF*S # Each neighbor gives energy 1.0\n",
    "    return Ene/2. # Each par counted twice\n",
    "\n",
    "def RandomL(N):\n",
    "    \"Radom lattice, corresponding to infinite temerature\"\n",
    "    latt = zeros((N,N), dtype=int)\n",
    "    for i in range(N):\n",
    "        for j in range(N):\n",
    "            latt[i,j] = sign(2*rand()-1)\n",
    "    return latt\n",
    "\n",
    "def SamplePython(Nitt, latt, PW):\n",
    "    \"Monte Carlo sampling for the Ising model in Pythons\"\n",
    "    Ene = CEnergy(latt)  # Starting energy\n",
    "    Mn=sum(latt)         # Starting magnetization\n",
    "#     print(latt[0])\n",
    "    Naver=0       # Measurements\n",
    "    Eaver=0.0\n",
    "    Maver=0.0\n",
    "    \n",
    "    N2 = N*N\n",
    "    \n",
    "    Ene_all = np.arange(0,Nitt)\n",
    "    Mn_all = np.arange(0,Nitt)\n",
    "    for itt in range(Nitt):\n",
    "        t = int(rand()*N2)  # choose one of N2 sites to flip\n",
    "        (i,j) = (t % N, int(t/N) )\n",
    "        S = latt[i,j]\n",
    "        WF = latt[(i+1)%N, j] + latt[i,(j+1)%N] + latt[(i-1)%N,j] + latt[i,(j-1)%N]\n",
    "        P = PW[4+S*WF]\n",
    "        if P>rand(): # flip the spin\n",
    "            latt[i,j] = -S\n",
    "            Ene += 2*S*WF\n",
    "            Mn -= 2*S\n",
    "        \n",
    "        Ene_all[itt] = Ene\n",
    "        Mn_all[itt] = Mn\n",
    "        \n",
    "        if itt>warm and itt%measure==0:\n",
    "            Naver += 1\n",
    "            Eaver += Ene\n",
    "            Maver += Mn\n",
    "    \n",
    "#     plt.plot(range(0,Nitt), Ene_all, range(0,Nitt), Mn_all)\n",
    "#     plt.xlabel('step')\n",
    "#     plt.ylabel('energy')\n",
    "#     plt.show()\n",
    "    \n",
    "    return (Maver/Naver/N2, Eaver/Naver/N2)   \n",
    "\n",
    "def main():\n",
    "    \n",
    "    latt = RandomL(N)\n",
    "    PW = zeros(9, dtype=float)\n",
    "\n",
    "    wT = linspace(2.5,2.0,4)\n",
    "#     wT = [2.25]\n",
    "    wMag=[]\n",
    "    wEne=[]\n",
    "    wCv=[]\n",
    "    wChi=[]\n",
    "    for T in wT:\n",
    "        print(\"T= \", T)\n",
    "        \n",
    "        # Precomputed exponents\n",
    "        PW[4+4] = exp(-4.*2/T)\n",
    "        PW[4+2] = exp(-2.*2/T)\n",
    "        PW[4+0] = exp(0.*2/T)\n",
    "        PW[4-2] = exp( 2.*2/T)\n",
    "        PW[4-4] = exp( 4.*2/T)\n",
    "        \n",
    "#         print(latt[0])\n",
    "    \n",
    "        (maver, eaver) = SamplePython(Nitt, latt, PW)\n",
    "        wMag.append(maver)\n",
    "        wEne.append(eaver)\n",
    "#         (aM, aE, cv, chi) = SampleCPP(Nitt, latt, PW, T)\n",
    "#         wMag.append( aM/(N*N) )\n",
    "#         wEne.append( aE/(N*N) )\n",
    "#         wCv.append( cv/(N*N) )\n",
    "#         wChi.append( chi/(N*N) )\n",
    "        \n",
    "#         print(T, aM/(N*N), aE/(N*N), cv/(N*N), chi/(N*N) )\n",
    "        \n",
    "    plot(wT, wEne, label='E(T)')\n",
    "#     plot(wT, wCv, label='cv(T)')\n",
    "    plot(wT, wMag, label='M(T)')\n",
    "    xlabel('T')\n",
    "    legend(loc='best')\n",
    "    show()\n",
    "#     plot(wT, wChi, label='chi(T)')\n",
    "#     xlabel('T')\n",
    "#     legend(loc='best')\n",
    "#     show()"
   ]
  },
  {
   "cell_type": "code",
   "execution_count": 23,
   "metadata": {},
   "outputs": [
    {
     "name": "stdout",
     "output_type": "stream",
     "text": [
      "T=  2.5\n",
      "T=  2.3333333333333335\n",
      "T=  2.1666666666666665\n",
      "T=  2.0\n"
     ]
    },
    {
     "data": {
      "image/png": "[encoded data removed]",
      "text/plain": [
       "<Figure size 432x288 with 1 Axes>"
      ]
     },
     "metadata": {
      "needs_background": "light"
     },
     "output_type": "display_data"
    },
    {
     "name": "stdout",
     "output_type": "stream",
     "text": [
      "12.6 s ± 0 ns per loop (mean ± std. dev. of 1 run, 1 loop each)\n"
     ]
    }
   ],
   "source": [
    "%timeit -n 1 -r 1 main()"
   ]
  },
  {
   "cell_type": "code",
   "execution_count": 24,
   "metadata": {},
   "outputs": [
    {
     "name": "stdout",
     "output_type": "stream",
     "text": [
      "T=  2.5\n",
      "T=  2.3333333333333335\n",
      "T=  2.1666666666666665\n",
      "T=  2.0\n"
     ]
    },
    {
     "data": {
      "image/png": "[encoded data removed]",
      "text/plain": [
       "<Figure size 432x288 with 1 Axes>"
      ]
     },
     "metadata": {
      "needs_background": "light"
     },
     "output_type": "display_data"
    },
    {
     "name": "stdout",
     "output_type": "stream",
     "text": [
      "12.5 s ± 0 ns per loop (mean ± std. dev. of 1 run, 1 loop each)\n"
     ]
    }
   ],
   "source": [
    "%timeit -n 1 -r 1 main()"
   ]
  },
  {
   "cell_type": "code",
   "execution_count": 25,
   "metadata": {},
   "outputs": [
    {
     "data": {
      "text/plain": [
       "0.8935950708321758"
      ]
     },
     "execution_count": 25,
     "metadata": {},
     "output_type": "execute_result"
    }
   ],
   "source": [
    "rand()"
   ]
  },
  {
   "cell_type": "code",
   "execution_count": 26,
   "metadata": {},
   "outputs": [
    {
     "data": {
      "text/plain": [
       "0.7894773776887282"
      ]
     },
     "execution_count": 26,
     "metadata": {},
     "output_type": "execute_result"
    }
   ],
   "source": [
    "rand()"
   ]
  },
  {
   "cell_type": "code",
   "execution_count": null,
   "metadata": {},
   "outputs": [],
   "source": []
  }
 ],
 "metadata": {
  "kernelspec": {
   "display_name": "Python 3",
   "language": "python",
   "name": "python3"
  },
  "language_info": {
   "codemirror_mode": {
    "name": "ipython",
    "version": 3
   },
   "file_extension": ".py",
   "mimetype": "text/x-python",
   "name": "python",
   "nbconvert_exporter": "python",
   "pygments_lexer": "ipython3",
   "version": "3.7.1"
  }
 },
 "nbformat": 4,
 "nbformat_minor": 2
}
