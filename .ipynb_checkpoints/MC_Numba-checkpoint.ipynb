{
 "cells": [
  {
   "cell_type": "code",
   "execution_count": 4,
   "metadata": {},
   "outputs": [],
   "source": [
    "%matplotlib inline\n",
    "\"\"\"\n",
    "Monte Carlo simulation of the 2D Ising model\n",
    "\"\"\"\n",
    "\n",
    "from scipy import *\n",
    "# from scipy import weave\n",
    "from pylab import *\n",
    "import random\n",
    "import numpy as np\n",
    "import numba as nb\n",
    "\n",
    "Nitt = int(10e5)  # total number of Monte Carlo steps\n",
    "N = 40          # linear dimension of the lattice, lattice-size= N x N\n",
    "warm = int(1e5)     # Number of warmup steps\n",
    "measure=100     # How often to take a measurement\n",
    "\n",
    "@nb.jit(nopython=True)\n",
    "def CEnergy(latt):\n",
    "    \"Energy of a 2D Ising lattice at particular configuration\"\n",
    "    Ene = 0\n",
    "    for i in range(len(latt)):\n",
    "        for j in range(len(latt)):\n",
    "            S = latt[i,j]\n",
    "            WF = latt[(i+1)%N, j] + latt[i,(j+1)%N] + latt[(i-1)%N,j] + latt[i,(j-1)%N]\n",
    "            Ene += -WF*S # Each neighbor gives energy 1.0\n",
    "    return Ene/2. # Each par counted twice\n",
    "\n",
    "@nb.jit(nopython=True)\n",
    "def RandomL(N):\n",
    "    \"Radom lattice, corresponding to infinite temerature\"\n",
    "#     latt = np.zeros((N,N), dtype=int)\n",
    "    latt = np.zeros((N,N))\n",
    "  \n",
    "    for i in range(N):\n",
    "        for j in range(N):\n",
    "            latt[i,j] = sign(2*rand()-1)\n",
    "    return latt\n",
    "\n",
    "@nb.jit(nopython=True)\n",
    "def SamplePython(Nitt, latt, PW, T):\n",
    "    \"Monte Carlo sampling for the Ising model in Pythons\"\n",
    "    Ene = CEnergy(latt)  # Starting energy\n",
    "    Mn=sum(latt)         # Starting magnetization\n",
    "#     print(latt[0])\n",
    "    Naver=0       # Measurements\n",
    "    Eaver=0.0\n",
    "    Maver=0.0\n",
    "    Eaver2=0.0\n",
    "    Maver2=0.0\n",
    "    \n",
    "    N2 = N*N\n",
    "    \n",
    "    Ene_all = np.arange(0,Nitt)\n",
    "    Mn_all = np.arange(0,Nitt)\n",
    "    for itt in range(Nitt):\n",
    "        t = int(rand()*N2)  # choose one of N2 sites to flip\n",
    "        (i,j) = (t % N, int(t/N) )\n",
    "        S = latt[i,j]\n",
    "        WF = latt[(i+1)%N, j] + latt[i,(j+1)%N] + latt[(i-1)%N,j] + latt[i,(j-1)%N]\n",
    "        P = PW[int(4+S*WF)]\n",
    "        if P>rand(): # flip the spin\n",
    "            latt[i,j] = -S\n",
    "            Ene += 2*S*WF\n",
    "            Mn -= 2*S\n",
    "        \n",
    "        Ene_all[itt] = Ene\n",
    "        Mn_all[itt] = Mn\n",
    "        \n",
    "        if itt>warm and itt%measure==0:\n",
    "            Naver += 1\n",
    "            Eaver += Ene\n",
    "            Maver += Mn\n",
    "            Eaver2 += Ene*Ene\n",
    "            Maver2 += Mn*Mn\n",
    "    \n",
    "#     plt.plot(range(0,Nitt), Ene_all, range(0,Nitt), Mn_all)\n",
    "#     plt.xlabel('step')\n",
    "#     plt.ylabel('energy')\n",
    "#     plt.show()\n",
    "    \n",
    "    M = Maver/Naver/N2\n",
    "    E = Eaver/Naver/N2\n",
    "    cv = (Eaver2/Naver-(Eaver/Naver)**2)/T**2\n",
    "    chi = (Maver2/Naver-(Maver/Naver)**2)/T\n",
    "    \n",
    "    return (M,E,cv,chi)   \n",
    "\n",
    "@nb.jit(nopython=True)\n",
    "def main():\n",
    "    latt = RandomL(N)\n",
    "\n",
    "#     PW = np.zeros(9, dtype=float)\n",
    "    PW = np.zeros(9)\n",
    "\n",
    "    wT = linspace(0.5, 5.0, 21)\n",
    "    wT = linspace(4, 1, 11)\n",
    "#     wT = [2.25]\n",
    "    wMag=np.zeros(len(wT))\n",
    "    wEne=np.zeros(len(wT))\n",
    "    wCv=np.zeros(len(wT))\n",
    "    wChi=np.zeros(len(wT))\n",
    "    for i in range(len(wT)):\n",
    "#     for T in wT:\n",
    "        T=wT[i]\n",
    "#         print(\"T= \", T)\n",
    "        \n",
    "        # Precomputed exponents\n",
    "        PW[4+4] = exp(-4.*2/T)\n",
    "        PW[4+2] = exp(-2.*2/T)\n",
    "        PW[4+0] = exp(0.*2/T)\n",
    "        PW[4-2] = exp( 2.*2/T)\n",
    "        PW[4-4] = exp( 4.*2/T)\n",
    "        \n",
    "#         print(latt[0])\n",
    "    \n",
    "        (m, e, cv, chi) = SamplePython(Nitt, latt, PW, T)\n",
    "        wMag[i] = m\n",
    "        wEne[i] = e\n",
    "        wCv[i] = cv\n",
    "        wChi[i] = chi\n",
    "        \n",
    "#         wMag.append(maver)\n",
    "#         wEne.append(eaver)\n",
    "#         (aM, aE, cv, chi) = SampleCPP(Nitt, latt, PW, T)\n",
    "#         wMag.append( aM/(N*N) )\n",
    "#         wEne.append( aE/(N*N) )\n",
    "#         wCv.append( cv/(N*N) )\n",
    "#         wChi.append( chi/(N*N) )\n",
    "        \n",
    "#         print(T, aM/(N*N), aE/(N*N), cv/(N*N), chi/(N*N) )\n",
    "        \n",
    "#     plot(wT, wEne, label='E(T)')\n",
    "#     plot(wT, wCv, label='cv(T)')\n",
    "#     plot(wT, wMag, label='M(T)')\n",
    "#     xlabel('T')\n",
    "#     legend(loc='best')\n",
    "#     show()\n",
    "#     plot(wT, wChi, label='chi(T)')\n",
    "#     xlabel('T')\n",
    "#     legend(loc='best')\n",
    "#     show()\n",
    "    return wT, wMag, wEne, wCv, wChi"
   ]
  },
  {
   "cell_type": "code",
   "execution_count": 6,
   "metadata": {},
   "outputs": [
    {
     "data": {
      "image/png": "[encoded data removed]",
      "text/plain": [
       "<Figure size 432x288 with 1 Axes>"
      ]
     },
     "metadata": {
      "needs_background": "light"
     },
     "output_type": "display_data"
    },
    {
     "data": {
      "image/png": "[encoded data removed]",
      "text/plain": [
       "<Figure size 432x288 with 1 Axes>"
      ]
     },
     "metadata": {
      "needs_background": "light"
     },
     "output_type": "display_data"
    },
    {
     "data": {
      "text/plain": [
       "[<matplotlib.lines.Line2D at 0x615c2e940>]"
      ]
     },
     "execution_count": 6,
     "metadata": {},
     "output_type": "execute_result"
    },
    {
     "data": {
      "image/png": "[encoded data removed]",
      "text/plain": [
       "<Figure size 432x288 with 1 Axes>"
      ]
     },
     "metadata": {
      "needs_background": "light"
     },
     "output_type": "display_data"
    }
   ],
   "source": [
    "wT, wMag, wEne, wCv, wChi = main()\n",
    "plt.plot(wT, wMag, wT, wEne)\n",
    "plt.show()\n",
    "plt.plot(wT, wCv)\n",
    "plt.show()\n",
    "plt.plot(wT, wChi)"
   ]
  },
  {
   "cell_type": "code",
   "execution_count": null,
   "metadata": {},
   "outputs": [],
   "source": []
  }
 ],
 "metadata": {
  "kernelspec": {
   "display_name": "Python 3",
   "language": "python",
   "name": "python3"
  },
  "language_info": {
   "codemirror_mode": {
    "name": "ipython",
    "version": 3
   },
   "file_extension": ".py",
   "mimetype": "text/x-python",
   "name": "python",
   "nbconvert_exporter": "python",
   "pygments_lexer": "ipython3",
   "version": "3.7.2"
  }
 },
 "nbformat": 4,
 "nbformat_minor": 2
}
